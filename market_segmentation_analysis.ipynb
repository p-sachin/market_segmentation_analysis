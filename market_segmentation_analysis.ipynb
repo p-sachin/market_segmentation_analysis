{
 "cells": [
  {
   "attachments": {},
   "cell_type": "markdown",
   "metadata": {},
   "source": [
    "### Market Segmentation Analysis: Case Study (Fast Food)"
   ]
  },
  {
   "attachments": {},
   "cell_type": "markdown",
   "metadata": {},
   "source": [
    "The purpose of this case study is to offer illustration of market segmentation analysis using a different empirical data set. The dataset for <br>\n",
    "this case study is obtained from the book “Market Segmentation Analysis - Understanding It, Doing It, and Making It Useful” is written by Sara <br> Dolnicar, Bettina Grün and Friedrich Leisch."
   ]
  },
  {
   "attachments": {},
   "cell_type": "markdown",
   "metadata": {},
   "source": [
    "#### Collecting Data"
   ]
  },
  {
   "attachments": {},
   "cell_type": "markdown",
   "metadata": {},
   "source": [
    "The data set contains responses from 1453 adult Australian consumers relating to their perceptions of McDonald’s with respect to the following <br> attributes: YUMMY, CONVENIENT, SPICY, FATTENING, GREASY, FAST, CHEAP, TASTY, EXPENSIVE,\n",
    "HEALTHY, and DISGUSTING. For each of those attributes, respondents provided either a YES response (indicating that they feel McDonald’s possesses this attribute), or a NO response (indicating that McDonald’s does not possess this attribute). <br>\n",
    "In addition, respondents indicated their AGE and GENDER. Had this data been collected for a real market segmentation study, additional information – such as details about their dining out behaviour, and their use of information channels –\n",
    "would have been collected to enable the development of a richer and more detailed description of each market segment."
   ]
  },
  {
   "attachments": {},
   "cell_type": "markdown",
   "metadata": {},
   "source": [
    "#### Exploring Data"
   ]
  },
  {
   "attachments": {},
   "cell_type": "markdown",
   "metadata": {},
   "source": [
    "First we explore the key characteristics of the data set by loading the data set and inspecting basic features such as the variable names, the <br> sample size, and the first five rows of the data:"
   ]
  },
  {
   "cell_type": "code",
   "execution_count": 107,
   "metadata": {},
   "outputs": [],
   "source": [
    "# Importing Libraries\n",
    "import pandas as pd\n",
    "import numpy as np\n",
    "\n",
    "mcdonalds_df = pd.read_csv('dataset/mcdonalds.csv')"
   ]
  },
  {
   "cell_type": "code",
   "execution_count": 108,
   "metadata": {},
   "outputs": [
    {
     "data": {
      "text/plain": [
       "Index(['yummy', 'convenient', 'spicy', 'fattening', 'greasy', 'fast', 'cheap',\n",
       "       'tasty', 'expensive', 'healthy', 'disgusting', 'Like', 'Age',\n",
       "       'VisitFrequency', 'Gender'],\n",
       "      dtype='object')"
      ]
     },
     "execution_count": 108,
     "metadata": {},
     "output_type": "execute_result"
    }
   ],
   "source": [
    "# Listing the variables names in the dataset\n",
    "mcdonalds_df.columns"
   ]
  },
  {
   "cell_type": "code",
   "execution_count": 109,
   "metadata": {},
   "outputs": [
    {
     "data": {
      "text/plain": [
       "(1453, 15)"
      ]
     },
     "execution_count": 109,
     "metadata": {},
     "output_type": "execute_result"
    }
   ],
   "source": [
    "# Printing the dimensions of the dataset \n",
    "mcdonalds_df.shape"
   ]
  },
  {
   "cell_type": "code",
   "execution_count": 110,
   "metadata": {},
   "outputs": [
    {
     "data": {
      "text/html": [
       "<div>\n",
       "<style scoped>\n",
       "    .dataframe tbody tr th:only-of-type {\n",
       "        vertical-align: middle;\n",
       "    }\n",
       "\n",
       "    .dataframe tbody tr th {\n",
       "        vertical-align: top;\n",
       "    }\n",
       "\n",
       "    .dataframe thead th {\n",
       "        text-align: right;\n",
       "    }\n",
       "</style>\n",
       "<table border=\"1\" class=\"dataframe\">\n",
       "  <thead>\n",
       "    <tr style=\"text-align: right;\">\n",
       "      <th></th>\n",
       "      <th>yummy</th>\n",
       "      <th>convenient</th>\n",
       "      <th>spicy</th>\n",
       "      <th>fattening</th>\n",
       "      <th>greasy</th>\n",
       "      <th>fast</th>\n",
       "      <th>cheap</th>\n",
       "      <th>tasty</th>\n",
       "      <th>expensive</th>\n",
       "      <th>healthy</th>\n",
       "      <th>disgusting</th>\n",
       "      <th>Like</th>\n",
       "      <th>Age</th>\n",
       "      <th>VisitFrequency</th>\n",
       "      <th>Gender</th>\n",
       "    </tr>\n",
       "  </thead>\n",
       "  <tbody>\n",
       "    <tr>\n",
       "      <th>0</th>\n",
       "      <td>No</td>\n",
       "      <td>Yes</td>\n",
       "      <td>No</td>\n",
       "      <td>Yes</td>\n",
       "      <td>No</td>\n",
       "      <td>Yes</td>\n",
       "      <td>Yes</td>\n",
       "      <td>No</td>\n",
       "      <td>Yes</td>\n",
       "      <td>No</td>\n",
       "      <td>No</td>\n",
       "      <td>-3</td>\n",
       "      <td>61</td>\n",
       "      <td>Every three months</td>\n",
       "      <td>Female</td>\n",
       "    </tr>\n",
       "    <tr>\n",
       "      <th>1</th>\n",
       "      <td>Yes</td>\n",
       "      <td>Yes</td>\n",
       "      <td>No</td>\n",
       "      <td>Yes</td>\n",
       "      <td>Yes</td>\n",
       "      <td>Yes</td>\n",
       "      <td>Yes</td>\n",
       "      <td>Yes</td>\n",
       "      <td>Yes</td>\n",
       "      <td>No</td>\n",
       "      <td>No</td>\n",
       "      <td>+2</td>\n",
       "      <td>51</td>\n",
       "      <td>Every three months</td>\n",
       "      <td>Female</td>\n",
       "    </tr>\n",
       "    <tr>\n",
       "      <th>2</th>\n",
       "      <td>No</td>\n",
       "      <td>Yes</td>\n",
       "      <td>Yes</td>\n",
       "      <td>Yes</td>\n",
       "      <td>Yes</td>\n",
       "      <td>Yes</td>\n",
       "      <td>No</td>\n",
       "      <td>Yes</td>\n",
       "      <td>Yes</td>\n",
       "      <td>Yes</td>\n",
       "      <td>No</td>\n",
       "      <td>+1</td>\n",
       "      <td>62</td>\n",
       "      <td>Every three months</td>\n",
       "      <td>Female</td>\n",
       "    </tr>\n",
       "    <tr>\n",
       "      <th>3</th>\n",
       "      <td>Yes</td>\n",
       "      <td>Yes</td>\n",
       "      <td>No</td>\n",
       "      <td>Yes</td>\n",
       "      <td>Yes</td>\n",
       "      <td>Yes</td>\n",
       "      <td>Yes</td>\n",
       "      <td>Yes</td>\n",
       "      <td>No</td>\n",
       "      <td>No</td>\n",
       "      <td>Yes</td>\n",
       "      <td>+4</td>\n",
       "      <td>69</td>\n",
       "      <td>Once a week</td>\n",
       "      <td>Female</td>\n",
       "    </tr>\n",
       "    <tr>\n",
       "      <th>4</th>\n",
       "      <td>No</td>\n",
       "      <td>Yes</td>\n",
       "      <td>No</td>\n",
       "      <td>Yes</td>\n",
       "      <td>Yes</td>\n",
       "      <td>Yes</td>\n",
       "      <td>Yes</td>\n",
       "      <td>No</td>\n",
       "      <td>No</td>\n",
       "      <td>Yes</td>\n",
       "      <td>No</td>\n",
       "      <td>+2</td>\n",
       "      <td>49</td>\n",
       "      <td>Once a month</td>\n",
       "      <td>Male</td>\n",
       "    </tr>\n",
       "  </tbody>\n",
       "</table>\n",
       "</div>"
      ],
      "text/plain": [
       "  yummy convenient spicy fattening greasy fast cheap tasty expensive healthy  \\\n",
       "0    No        Yes    No       Yes     No  Yes   Yes    No       Yes      No   \n",
       "1   Yes        Yes    No       Yes    Yes  Yes   Yes   Yes       Yes      No   \n",
       "2    No        Yes   Yes       Yes    Yes  Yes    No   Yes       Yes     Yes   \n",
       "3   Yes        Yes    No       Yes    Yes  Yes   Yes   Yes        No      No   \n",
       "4    No        Yes    No       Yes    Yes  Yes   Yes    No        No     Yes   \n",
       "\n",
       "  disgusting Like  Age      VisitFrequency  Gender  \n",
       "0         No   -3   61  Every three months  Female  \n",
       "1         No   +2   51  Every three months  Female  \n",
       "2         No   +1   62  Every three months  Female  \n",
       "3        Yes   +4   69         Once a week  Female  \n",
       "4         No   +2   49        Once a month    Male  "
      ]
     },
     "execution_count": 110,
     "metadata": {},
     "output_type": "execute_result"
    }
   ],
   "source": [
    "# Getting the First five rows of the dataset\n",
    "mcdonalds_df.head()"
   ]
  },
  {
   "attachments": {},
   "cell_type": "markdown",
   "metadata": {},
   "source": [
    "As we can see from the output, the first respondent believes that McDonald’s is not\n",
    "yummy, convenient, not spicy, fattening, not greasy, fast, cheap, not tasty, expensive,\n",
    "not healthy and not disgusting. This same respondent does not like McDonald’s\n",
    "(rating of −3), is 61 years old, eats atMcDonald’s every three months and is female.\n",
    "This quick glance at the data shows that the segmentation variables (perception\n",
    "of McDonald’s) are verbal, not numeric. This means that they are coded using\n",
    "the words YES and NO. This is not a suitable format for segment extraction. We\n",
    "need numbers, not words. To get numbers, we slice the segmentation variables and convert them from verbal YES/NO to numeric binary."
   ]
  },
  {
   "cell_type": "code",
   "execution_count": 111,
   "metadata": {},
   "outputs": [],
   "source": [
    "from sklearn.preprocessing import LabelBinarizer, OrdinalEncoder\n",
    "from sklearn.compose import make_column_transformer\n",
    "\n",
    "cat_col_names = mcdonalds_df.columns[:11]\n",
    "\n",
    "mcdonalds_dfTransformed = make_column_transformer(\n",
    "    (OrdinalEncoder(dtype='int'), cat_col_names),\n",
    "    remainder='passthrough')"
   ]
  },
  {
   "cell_type": "code",
   "execution_count": 112,
   "metadata": {},
   "outputs": [],
   "source": [
    "df_transformed = pd.DataFrame(mcdonalds_dfTransformed.fit_transform(mcdonalds_df), columns=mcdonalds_df.columns)"
   ]
  },
  {
   "cell_type": "code",
   "execution_count": 113,
   "metadata": {},
   "outputs": [
    {
     "data": {
      "text/plain": [
       "yummy         0.552650\n",
       "convenient    0.907777\n",
       "spicy         0.093599\n",
       "fattening     0.867171\n",
       "greasy        0.526497\n",
       "fast          0.900206\n",
       "cheap         0.598761\n",
       "tasty         0.644184\n",
       "expensive     0.357880\n",
       "healthy       0.198899\n",
       "disgusting    0.242946\n",
       "dtype: float64"
      ]
     },
     "execution_count": 113,
     "metadata": {},
     "output_type": "execute_result"
    }
   ],
   "source": [
    "# Checking the mean of the segmentation variables\n",
    "df_transformed[cat_col_names].mean()"
   ]
  },
  {
   "attachments": {},
   "cell_type": "markdown",
   "metadata": {},
   "source": [
    "The average values of the transformed binary numeric segmentation variables indicate that about half of the respondents (55%) perceive McDonald’s as YUMMY, 91% believe that eating at McDonald’s is CONVENIENT, but only 9% think that McDonald’s food is SPICY."
   ]
  },
  {
   "cell_type": "code",
   "execution_count": 114,
   "metadata": {},
   "outputs": [],
   "source": [
    "from sklearn.decomposition import PCA\n",
    "mc_donalds_pca = PCA(n_components=11)\n",
    "pca_components = mc_donalds_pca.fit_transform(df_transformed[cat_col_names])\n",
    "df_components = pd.DataFrame(data=pca_components, columns=[\"PC\"+str(i) for i in range(1,12)])"
   ]
  },
  {
   "cell_type": "code",
   "execution_count": 115,
   "metadata": {},
   "outputs": [
    {
     "data": {
      "text/html": [
       "<div>\n",
       "<style scoped>\n",
       "    .dataframe tbody tr th:only-of-type {\n",
       "        vertical-align: middle;\n",
       "    }\n",
       "\n",
       "    .dataframe tbody tr th {\n",
       "        vertical-align: top;\n",
       "    }\n",
       "\n",
       "    .dataframe thead th {\n",
       "        text-align: right;\n",
       "    }\n",
       "</style>\n",
       "<table border=\"1\" class=\"dataframe\">\n",
       "  <thead>\n",
       "    <tr style=\"text-align: right;\">\n",
       "      <th></th>\n",
       "      <th>Standard Deviation</th>\n",
       "      <th>Proportion of Variance</th>\n",
       "      <th>Cumulative Proportion</th>\n",
       "    </tr>\n",
       "  </thead>\n",
       "  <tbody>\n",
       "    <tr>\n",
       "      <th>PC1</th>\n",
       "      <td>0.757050</td>\n",
       "      <td>0.299447</td>\n",
       "      <td>0.299447</td>\n",
       "    </tr>\n",
       "    <tr>\n",
       "      <th>PC2</th>\n",
       "      <td>0.607456</td>\n",
       "      <td>0.192797</td>\n",
       "      <td>0.492244</td>\n",
       "    </tr>\n",
       "    <tr>\n",
       "      <th>PC3</th>\n",
       "      <td>0.504619</td>\n",
       "      <td>0.133045</td>\n",
       "      <td>0.625290</td>\n",
       "    </tr>\n",
       "    <tr>\n",
       "      <th>PC4</th>\n",
       "      <td>0.398799</td>\n",
       "      <td>0.083096</td>\n",
       "      <td>0.708386</td>\n",
       "    </tr>\n",
       "    <tr>\n",
       "      <th>PC5</th>\n",
       "      <td>0.337405</td>\n",
       "      <td>0.059481</td>\n",
       "      <td>0.767866</td>\n",
       "    </tr>\n",
       "    <tr>\n",
       "      <th>PC6</th>\n",
       "      <td>0.310275</td>\n",
       "      <td>0.050300</td>\n",
       "      <td>0.818166</td>\n",
       "    </tr>\n",
       "    <tr>\n",
       "      <th>PC7</th>\n",
       "      <td>0.289697</td>\n",
       "      <td>0.043849</td>\n",
       "      <td>0.862015</td>\n",
       "    </tr>\n",
       "    <tr>\n",
       "      <th>PC8</th>\n",
       "      <td>0.275122</td>\n",
       "      <td>0.039548</td>\n",
       "      <td>0.901563</td>\n",
       "    </tr>\n",
       "    <tr>\n",
       "      <th>PC9</th>\n",
       "      <td>0.265251</td>\n",
       "      <td>0.036761</td>\n",
       "      <td>0.938323</td>\n",
       "    </tr>\n",
       "    <tr>\n",
       "      <th>PC10</th>\n",
       "      <td>0.248842</td>\n",
       "      <td>0.032353</td>\n",
       "      <td>0.970677</td>\n",
       "    </tr>\n",
       "    <tr>\n",
       "      <th>PC11</th>\n",
       "      <td>0.236903</td>\n",
       "      <td>0.029323</td>\n",
       "      <td>1.000000</td>\n",
       "    </tr>\n",
       "  </tbody>\n",
       "</table>\n",
       "</div>"
      ],
      "text/plain": [
       "      Standard Deviation  Proportion of Variance  Cumulative Proportion\n",
       "PC1             0.757050                0.299447               0.299447\n",
       "PC2             0.607456                0.192797               0.492244\n",
       "PC3             0.504619                0.133045               0.625290\n",
       "PC4             0.398799                0.083096               0.708386\n",
       "PC5             0.337405                0.059481               0.767866\n",
       "PC6             0.310275                0.050300               0.818166\n",
       "PC7             0.289697                0.043849               0.862015\n",
       "PC8             0.275122                0.039548               0.901563\n",
       "PC9             0.265251                0.036761               0.938323\n",
       "PC10            0.248842                0.032353               0.970677\n",
       "PC11            0.236903                0.029323               1.000000"
      ]
     },
     "execution_count": 115,
     "metadata": {},
     "output_type": "execute_result"
    }
   ],
   "source": [
    "# Gathering data for checking the importance of components\n",
    "std_components = df_components.std()\n",
    "var_components = mc_donalds_pca.explained_variance_ratio_\n",
    "cumvar_components = var_components.cumsum()\n",
    "imp_components = pd.DataFrame()\n",
    "imp_components[\"Standard Deviation\"] = std_components\n",
    "imp_components[\"Proportion of Variance\"] = var_components\n",
    "imp_components[\"Cumulative Proportion\"] = cumvar_components\n",
    "imp_components"
   ]
  },
  {
   "attachments": {},
   "cell_type": "markdown",
   "metadata": {},
   "source": [
    "Results from principal components analysis indicate that the first two components capture about 50% of the information contained in the segmentation variables."
   ]
  },
  {
   "cell_type": "code",
   "execution_count": 116,
   "metadata": {},
   "outputs": [],
   "source": [
    "df_components_factor = pd.DataFrame(data=mc_donalds_pca.components_, columns=[\"PC\"+str(i) for i in range(1,12)])"
   ]
  },
  {
   "cell_type": "code",
   "execution_count": 117,
   "metadata": {},
   "outputs": [
    {
     "data": {
      "text/html": [
       "<div>\n",
       "<style scoped>\n",
       "    .dataframe tbody tr th:only-of-type {\n",
       "        vertical-align: middle;\n",
       "    }\n",
       "\n",
       "    .dataframe tbody tr th {\n",
       "        vertical-align: top;\n",
       "    }\n",
       "\n",
       "    .dataframe thead th {\n",
       "        text-align: right;\n",
       "    }\n",
       "</style>\n",
       "<table border=\"1\" class=\"dataframe\">\n",
       "  <thead>\n",
       "    <tr style=\"text-align: right;\">\n",
       "      <th></th>\n",
       "      <th>PC1</th>\n",
       "      <th>PC2</th>\n",
       "      <th>PC3</th>\n",
       "      <th>PC4</th>\n",
       "      <th>PC5</th>\n",
       "      <th>PC6</th>\n",
       "      <th>PC7</th>\n",
       "      <th>PC8</th>\n",
       "      <th>PC9</th>\n",
       "      <th>PC10</th>\n",
       "      <th>PC11</th>\n",
       "    </tr>\n",
       "    <tr>\n",
       "      <th>Variable</th>\n",
       "      <th></th>\n",
       "      <th></th>\n",
       "      <th></th>\n",
       "      <th></th>\n",
       "      <th></th>\n",
       "      <th></th>\n",
       "      <th></th>\n",
       "      <th></th>\n",
       "      <th></th>\n",
       "      <th></th>\n",
       "      <th></th>\n",
       "    </tr>\n",
       "  </thead>\n",
       "  <tbody>\n",
       "    <tr>\n",
       "      <th>yummy</th>\n",
       "      <td>-0.476933</td>\n",
       "      <td>-0.155332</td>\n",
       "      <td>-0.006356</td>\n",
       "      <td>0.116232</td>\n",
       "      <td>0.304443</td>\n",
       "      <td>-0.108493</td>\n",
       "      <td>-0.337186</td>\n",
       "      <td>-0.471514</td>\n",
       "      <td>0.329042</td>\n",
       "      <td>-0.213711</td>\n",
       "      <td>0.374753</td>\n",
       "    </tr>\n",
       "    <tr>\n",
       "      <th>convenient</th>\n",
       "      <td>0.363790</td>\n",
       "      <td>0.016414</td>\n",
       "      <td>0.018809</td>\n",
       "      <td>-0.034094</td>\n",
       "      <td>-0.063839</td>\n",
       "      <td>-0.086972</td>\n",
       "      <td>-0.610633</td>\n",
       "      <td>0.307318</td>\n",
       "      <td>0.601286</td>\n",
       "      <td>0.076593</td>\n",
       "      <td>-0.139656</td>\n",
       "    </tr>\n",
       "    <tr>\n",
       "      <th>spicy</th>\n",
       "      <td>-0.304444</td>\n",
       "      <td>-0.062515</td>\n",
       "      <td>-0.037019</td>\n",
       "      <td>-0.322359</td>\n",
       "      <td>-0.802373</td>\n",
       "      <td>-0.064642</td>\n",
       "      <td>-0.149310</td>\n",
       "      <td>-0.287265</td>\n",
       "      <td>0.024397</td>\n",
       "      <td>0.192051</td>\n",
       "      <td>-0.088571</td>\n",
       "    </tr>\n",
       "    <tr>\n",
       "      <th>fattening</th>\n",
       "      <td>0.055162</td>\n",
       "      <td>-0.142425</td>\n",
       "      <td>0.197619</td>\n",
       "      <td>-0.354139</td>\n",
       "      <td>0.253960</td>\n",
       "      <td>-0.097363</td>\n",
       "      <td>0.118958</td>\n",
       "      <td>-0.002547</td>\n",
       "      <td>0.067816</td>\n",
       "      <td>0.763488</td>\n",
       "      <td>0.369539</td>\n",
       "    </tr>\n",
       "    <tr>\n",
       "      <th>greasy</th>\n",
       "      <td>-0.307535</td>\n",
       "      <td>0.277608</td>\n",
       "      <td>0.070620</td>\n",
       "      <td>-0.073405</td>\n",
       "      <td>0.361399</td>\n",
       "      <td>0.107930</td>\n",
       "      <td>-0.128973</td>\n",
       "      <td>-0.210899</td>\n",
       "      <td>-0.003125</td>\n",
       "      <td>0.287846</td>\n",
       "      <td>-0.729209</td>\n",
       "    </tr>\n",
       "    <tr>\n",
       "      <th>fast</th>\n",
       "      <td>0.170738</td>\n",
       "      <td>-0.347830</td>\n",
       "      <td>-0.355087</td>\n",
       "      <td>-0.406515</td>\n",
       "      <td>0.209347</td>\n",
       "      <td>-0.594632</td>\n",
       "      <td>-0.103241</td>\n",
       "      <td>-0.076914</td>\n",
       "      <td>-0.261342</td>\n",
       "      <td>-0.178226</td>\n",
       "      <td>-0.210878</td>\n",
       "    </tr>\n",
       "    <tr>\n",
       "      <th>cheap</th>\n",
       "      <td>-0.280519</td>\n",
       "      <td>-0.059738</td>\n",
       "      <td>0.707637</td>\n",
       "      <td>-0.385943</td>\n",
       "      <td>0.036170</td>\n",
       "      <td>-0.086846</td>\n",
       "      <td>-0.040449</td>\n",
       "      <td>0.360453</td>\n",
       "      <td>-0.068385</td>\n",
       "      <td>-0.349616</td>\n",
       "      <td>-0.026792</td>\n",
       "    </tr>\n",
       "    <tr>\n",
       "      <th>tasty</th>\n",
       "      <td>0.013041</td>\n",
       "      <td>-0.113079</td>\n",
       "      <td>0.375934</td>\n",
       "      <td>0.589622</td>\n",
       "      <td>-0.138241</td>\n",
       "      <td>-0.627799</td>\n",
       "      <td>0.140060</td>\n",
       "      <td>-0.072792</td>\n",
       "      <td>0.029539</td>\n",
       "      <td>0.176303</td>\n",
       "      <td>-0.167181</td>\n",
       "    </tr>\n",
       "    <tr>\n",
       "      <th>expensive</th>\n",
       "      <td>0.572403</td>\n",
       "      <td>-0.018465</td>\n",
       "      <td>0.400280</td>\n",
       "      <td>-0.160512</td>\n",
       "      <td>-0.002847</td>\n",
       "      <td>0.166197</td>\n",
       "      <td>0.076069</td>\n",
       "      <td>-0.639086</td>\n",
       "      <td>0.066996</td>\n",
       "      <td>-0.185572</td>\n",
       "      <td>-0.072483</td>\n",
       "    </tr>\n",
       "    <tr>\n",
       "      <th>healthy</th>\n",
       "      <td>-0.110284</td>\n",
       "      <td>-0.665818</td>\n",
       "      <td>-0.075634</td>\n",
       "      <td>-0.005338</td>\n",
       "      <td>0.008707</td>\n",
       "      <td>0.239532</td>\n",
       "      <td>0.428087</td>\n",
       "      <td>0.079184</td>\n",
       "      <td>0.454399</td>\n",
       "      <td>-0.038117</td>\n",
       "      <td>-0.289592</td>\n",
       "    </tr>\n",
       "    <tr>\n",
       "      <th>disgusting</th>\n",
       "      <td>0.045439</td>\n",
       "      <td>-0.541616</td>\n",
       "      <td>0.141730</td>\n",
       "      <td>0.250910</td>\n",
       "      <td>0.001642</td>\n",
       "      <td>0.339265</td>\n",
       "      <td>-0.489283</td>\n",
       "      <td>0.019552</td>\n",
       "      <td>-0.490069</td>\n",
       "      <td>0.157608</td>\n",
       "      <td>-0.040662</td>\n",
       "    </tr>\n",
       "  </tbody>\n",
       "</table>\n",
       "</div>"
      ],
      "text/plain": [
       "                 PC1       PC2       PC3       PC4       PC5       PC6  \\\n",
       "Variable                                                                 \n",
       "yummy      -0.476933 -0.155332 -0.006356  0.116232  0.304443 -0.108493   \n",
       "convenient  0.363790  0.016414  0.018809 -0.034094 -0.063839 -0.086972   \n",
       "spicy      -0.304444 -0.062515 -0.037019 -0.322359 -0.802373 -0.064642   \n",
       "fattening   0.055162 -0.142425  0.197619 -0.354139  0.253960 -0.097363   \n",
       "greasy     -0.307535  0.277608  0.070620 -0.073405  0.361399  0.107930   \n",
       "fast        0.170738 -0.347830 -0.355087 -0.406515  0.209347 -0.594632   \n",
       "cheap      -0.280519 -0.059738  0.707637 -0.385943  0.036170 -0.086846   \n",
       "tasty       0.013041 -0.113079  0.375934  0.589622 -0.138241 -0.627799   \n",
       "expensive   0.572403 -0.018465  0.400280 -0.160512 -0.002847  0.166197   \n",
       "healthy    -0.110284 -0.665818 -0.075634 -0.005338  0.008707  0.239532   \n",
       "disgusting  0.045439 -0.541616  0.141730  0.250910  0.001642  0.339265   \n",
       "\n",
       "                 PC7       PC8       PC9      PC10      PC11  \n",
       "Variable                                                      \n",
       "yummy      -0.337186 -0.471514  0.329042 -0.213711  0.374753  \n",
       "convenient -0.610633  0.307318  0.601286  0.076593 -0.139656  \n",
       "spicy      -0.149310 -0.287265  0.024397  0.192051 -0.088571  \n",
       "fattening   0.118958 -0.002547  0.067816  0.763488  0.369539  \n",
       "greasy     -0.128973 -0.210899 -0.003125  0.287846 -0.729209  \n",
       "fast       -0.103241 -0.076914 -0.261342 -0.178226 -0.210878  \n",
       "cheap      -0.040449  0.360453 -0.068385 -0.349616 -0.026792  \n",
       "tasty       0.140060 -0.072792  0.029539  0.176303 -0.167181  \n",
       "expensive   0.076069 -0.639086  0.066996 -0.185572 -0.072483  \n",
       "healthy     0.428087  0.079184  0.454399 -0.038117 -0.289592  \n",
       "disgusting -0.489283  0.019552 -0.490069  0.157608 -0.040662  "
      ]
     },
     "execution_count": 117,
     "metadata": {},
     "output_type": "execute_result"
    }
   ],
   "source": [
    "df_components_factor.transpose()\n",
    "df_components_factor[\"Variable\"] = cat_col_names.values\n",
    "df_components_factor = df_components_factor.set_index(\"Variable\")\n",
    "df_components_factor"
   ]
  },
  {
   "cell_type": "code",
   "execution_count": 118,
   "metadata": {},
   "outputs": [
    {
     "data": {
      "image/png": "[encoded data removed]",
      "text/plain": [
       "<Figure size 1080x720 with 1 Axes>"
      ]
     },
     "metadata": {},
     "output_type": "display_data"
    }
   ],
   "source": [
    "# Reference https://www.reneshbedre.com/blog/principal-component-analysis.html\n",
    "from bioinfokit.visuz import cluster\n",
    "cluster.biplot(cscore=pca_components, loadings=mc_donalds_pca.components_, labels=cat_col_names, var1=\"\", var2=\"\", show=True, dim=(15,10))"
   ]
  },
  {
   "attachments": {},
   "cell_type": "markdown",
   "metadata": {},
   "source": [
    "#### Extracting Segments"
   ]
  },
  {
   "cell_type": "code",
   "execution_count": 119,
   "metadata": {},
   "outputs": [
    {
     "data": {
      "image/png": "[encoded data removed]",
      "text/plain": [
       "<Figure size 864x432 with 1 Axes>"
      ]
     },
     "metadata": {},
     "output_type": "display_data"
    }
   ],
   "source": [
    "from sklearn.cluster import KMeans\n",
    "import matplotlib.pyplot as plt\n",
    "import numpy as np\n",
    "np.random.seed(1234)\n",
    "n_clusters = range(1,9)\n",
    "km = KMeans()\n",
    "cluster_dist = []\n",
    "for k in n_clusters:\n",
    "    km.set_params(n_clusters=k)\n",
    "    km.fit(df_transformed[cat_col_names])\n",
    "    cluster_dist.append(km.inertia_)\n",
    "\n",
    "plt.figure(figsize=(12,6))\n",
    "plt.bar(range(1, 9), cluster_dist)\n",
    "plt.title(\"Scree Plot for Fast Food Dataset\")\n",
    "plt.xlabel(\"Number of segments\")\n",
    "plt.ylabel(\"Sum of within-cluster distances\")\n",
    "plt.show()\n",
    "\n"
   ]
  },
  {
   "cell_type": "code",
   "execution_count": 120,
   "metadata": {},
   "outputs": [
    {
     "data": {
      "image/png": "[encoded data removed]",
      "text/plain": [
       "<Figure size 576x396 with 2 Axes>"
      ]
     },
     "metadata": {},
     "output_type": "display_data"
    },
    {
     "data": {
      "text/plain": [
       "<AxesSubplot:title={'center':'Distortion Score Elbow for KMeans Clustering'}, xlabel='k', ylabel='distortion score'>"
      ]
     },
     "execution_count": 120,
     "metadata": {},
     "output_type": "execute_result"
    }
   ],
   "source": [
    "#Using k-means clustering analysis\n",
    "from sklearn.cluster import KMeans\n",
    "from yellowbrick.cluster import KElbowVisualizer\n",
    "model = KMeans()\n",
    "visualizer = KElbowVisualizer(model, k=(2,9)).fit(df_transformed[cat_col_names])\n",
    "visualizer.show()"
   ]
  },
  {
   "cell_type": "code",
   "execution_count": 121,
   "metadata": {},
   "outputs": [],
   "source": [
    "kmeans = KMeans(n_clusters=4)\n",
    "kmeans.fit(df_transformed[cat_col_names])\n",
    "mcdonalds_df[\"cluster_labels\"]=kmeans.labels_"
   ]
  },
  {
   "cell_type": "code",
   "execution_count": 122,
   "metadata": {},
   "outputs": [
    {
     "data": {
      "image/png": "[encoded data removed]",
      "text/plain": [
       "<Figure size 576x396 with 1 Axes>"
      ]
     },
     "metadata": {},
     "output_type": "display_data"
    }
   ],
   "source": [
    "import seaborn as sns\n",
    "sns.scatterplot(data=df_components, x=\"PC1\", y=\"PC2\", hue=kmeans.labels_)\n",
    "plt.scatter(kmeans.cluster_centers_[:,0], kmeans.cluster_centers_[:,1], \n",
    "            marker=\"X\", c=\"y\", s=40, label=\"centroids\")\n",
    "plt.legend()\n",
    "plt.show()"
   ]
  },
  {
   "cell_type": "code",
   "execution_count": 129,
   "metadata": {},
   "outputs": [
    {
     "data": {
      "text/plain": [
       "<Figure size 1080x432 with 0 Axes>"
      ]
     },
     "metadata": {},
     "output_type": "display_data"
    },
    {
     "data": {
      "image/png": "[encoded data removed]",
      "text/plain": [
       "<Figure size 504x360 with 3 Axes>"
      ]
     },
     "metadata": {},
     "output_type": "display_data"
    }
   ],
   "source": [
    "from statsmodels.graphics.mosaicplot import mosaic\n",
    "from itertools import product\n",
    "\n",
    "crosstab =pd.crosstab(mcdonalds_df['cluster_labels'],mcdonalds_df['Like'])\n",
    "#MOSAIC PLOT\n",
    "plt.figure(figsize=(15,6))\n",
    "mosaic(crosstab.stack())\n",
    "plt.show()"
   ]
  },
  {
   "cell_type": "code",
   "execution_count": 126,
   "metadata": {},
   "outputs": [
    {
     "data": {
      "text/html": [
       "<div>\n",
       "<style scoped>\n",
       "    .dataframe tbody tr th:only-of-type {\n",
       "        vertical-align: middle;\n",
       "    }\n",
       "\n",
       "    .dataframe tbody tr th {\n",
       "        vertical-align: top;\n",
       "    }\n",
       "\n",
       "    .dataframe thead th {\n",
       "        text-align: right;\n",
       "    }\n",
       "</style>\n",
       "<table border=\"1\" class=\"dataframe\">\n",
       "  <thead>\n",
       "    <tr style=\"text-align: right;\">\n",
       "      <th>Gender</th>\n",
       "      <th>Female</th>\n",
       "      <th>Male</th>\n",
       "    </tr>\n",
       "    <tr>\n",
       "      <th>cluster_labels</th>\n",
       "      <th></th>\n",
       "      <th></th>\n",
       "    </tr>\n",
       "  </thead>\n",
       "  <tbody>\n",
       "    <tr>\n",
       "      <th>0</th>\n",
       "      <td>155</td>\n",
       "      <td>169</td>\n",
       "    </tr>\n",
       "    <tr>\n",
       "      <th>1</th>\n",
       "      <td>349</td>\n",
       "      <td>231</td>\n",
       "    </tr>\n",
       "    <tr>\n",
       "      <th>2</th>\n",
       "      <td>101</td>\n",
       "      <td>140</td>\n",
       "    </tr>\n",
       "    <tr>\n",
       "      <th>3</th>\n",
       "      <td>183</td>\n",
       "      <td>125</td>\n",
       "    </tr>\n",
       "  </tbody>\n",
       "</table>\n",
       "</div>"
      ],
      "text/plain": [
       "Gender          Female  Male\n",
       "cluster_labels              \n",
       "0                  155   169\n",
       "1                  349   231\n",
       "2                  101   140\n",
       "3                  183   125"
      ]
     },
     "execution_count": 126,
     "metadata": {},
     "output_type": "execute_result"
    }
   ],
   "source": [
    "crosstab_gender =pd.crosstab(mcdonalds_df['cluster_labels'],mcdonalds_df['Gender'])\n",
    "crosstab_gender"
   ]
  },
  {
   "cell_type": "code",
   "execution_count": 128,
   "metadata": {},
   "outputs": [
    {
     "data": {
      "text/plain": [
       "<Figure size 1080x432 with 0 Axes>"
      ]
     },
     "metadata": {},
     "output_type": "display_data"
    },
    {
     "data": {
      "image/png": "[encoded data removed]",
      "text/plain": [
       "<Figure size 504x360 with 3 Axes>"
      ]
     },
     "metadata": {},
     "output_type": "display_data"
    }
   ],
   "source": [
    "plt.figure(figsize=(15,6))\n",
    "mosaic(crosstab_gender.stack())\n",
    "plt.show()"
   ]
  },
  {
   "cell_type": "code",
   "execution_count": 130,
   "metadata": {},
   "outputs": [
    {
     "data": {
      "text/plain": [
       "<AxesSubplot:xlabel='cluster_labels', ylabel='Age'>"
      ]
     },
     "execution_count": 130,
     "metadata": {},
     "output_type": "execute_result"
    },
    {
     "data": {
      "image/png": "[encoded data removed]",
      "text/plain": [
       "<Figure size 504x360 with 1 Axes>"
      ]
     },
     "metadata": {},
     "output_type": "display_data"
    }
   ],
   "source": [
    "sns.boxplot(x=\"cluster_labels\", y=\"Age\", data=mcdonalds_df)"
   ]
  },
  {
   "cell_type": "code",
   "execution_count": 143,
   "metadata": {},
   "outputs": [
    {
     "data": {
      "text/html": [
       "<div>\n",
       "<style scoped>\n",
       "    .dataframe tbody tr th:only-of-type {\n",
       "        vertical-align: middle;\n",
       "    }\n",
       "\n",
       "    .dataframe tbody tr th {\n",
       "        vertical-align: top;\n",
       "    }\n",
       "\n",
       "    .dataframe thead th {\n",
       "        text-align: right;\n",
       "    }\n",
       "</style>\n",
       "<table border=\"1\" class=\"dataframe\">\n",
       "  <thead>\n",
       "    <tr style=\"text-align: right;\">\n",
       "      <th></th>\n",
       "      <th>cluster_labels</th>\n",
       "      <th>VisitFrequency</th>\n",
       "    </tr>\n",
       "  </thead>\n",
       "  <tbody>\n",
       "    <tr>\n",
       "      <th>0</th>\n",
       "      <td>0</td>\n",
       "      <td>2.540123</td>\n",
       "    </tr>\n",
       "    <tr>\n",
       "      <th>1</th>\n",
       "      <td>1</td>\n",
       "      <td>2.584483</td>\n",
       "    </tr>\n",
       "    <tr>\n",
       "      <th>2</th>\n",
       "      <td>2</td>\n",
       "      <td>2.668050</td>\n",
       "    </tr>\n",
       "    <tr>\n",
       "      <th>3</th>\n",
       "      <td>3</td>\n",
       "      <td>2.818182</td>\n",
       "    </tr>\n",
       "  </tbody>\n",
       "</table>\n",
       "</div>"
      ],
      "text/plain": [
       "   cluster_labels  VisitFrequency\n",
       "0               0        2.540123\n",
       "1               1        2.584483\n",
       "2               2        2.668050\n",
       "3               3        2.818182"
      ]
     },
     "execution_count": 143,
     "metadata": {},
     "output_type": "execute_result"
    }
   ],
   "source": [
    "from sklearn.preprocessing import LabelEncoder\n",
    "#Calculating the mean\n",
    "mcdonalds_df['VisitFrequency'] = LabelEncoder().fit_transform(mcdonalds_df['VisitFrequency'])\n",
    "visit = mcdonalds_df.groupby('cluster_labels')['VisitFrequency'].mean()\n",
    "visit = visit.to_frame().reset_index()\n",
    "visit"
   ]
  },
  {
   "cell_type": "code",
   "execution_count": 145,
   "metadata": {},
   "outputs": [
    {
     "data": {
      "text/html": [
       "<div>\n",
       "<style scoped>\n",
       "    .dataframe tbody tr th:only-of-type {\n",
       "        vertical-align: middle;\n",
       "    }\n",
       "\n",
       "    .dataframe tbody tr th {\n",
       "        vertical-align: top;\n",
       "    }\n",
       "\n",
       "    .dataframe thead th {\n",
       "        text-align: right;\n",
       "    }\n",
       "</style>\n",
       "<table border=\"1\" class=\"dataframe\">\n",
       "  <thead>\n",
       "    <tr style=\"text-align: right;\">\n",
       "      <th></th>\n",
       "      <th>cluster_labels</th>\n",
       "      <th>Like</th>\n",
       "    </tr>\n",
       "  </thead>\n",
       "  <tbody>\n",
       "    <tr>\n",
       "      <th>0</th>\n",
       "      <td>0</td>\n",
       "      <td>3.808642</td>\n",
       "    </tr>\n",
       "    <tr>\n",
       "      <th>1</th>\n",
       "      <td>1</td>\n",
       "      <td>3.794828</td>\n",
       "    </tr>\n",
       "    <tr>\n",
       "      <th>2</th>\n",
       "      <td>2</td>\n",
       "      <td>6.763485</td>\n",
       "    </tr>\n",
       "    <tr>\n",
       "      <th>3</th>\n",
       "      <td>3</td>\n",
       "      <td>5.428571</td>\n",
       "    </tr>\n",
       "  </tbody>\n",
       "</table>\n",
       "</div>"
      ],
      "text/plain": [
       "   cluster_labels      Like\n",
       "0               0  3.808642\n",
       "1               1  3.794828\n",
       "2               2  6.763485\n",
       "3               3  5.428571"
      ]
     },
     "execution_count": 145,
     "metadata": {},
     "output_type": "execute_result"
    }
   ],
   "source": [
    "mcdonalds_df['Like'] = LabelEncoder().fit_transform(mcdonalds_df['Like'])\n",
    "like = mcdonalds_df.groupby('cluster_labels')['Like'].mean()\n",
    "like = like.to_frame().reset_index()\n",
    "like\n"
   ]
  },
  {
   "cell_type": "code",
   "execution_count": 146,
   "metadata": {},
   "outputs": [
    {
     "data": {
      "text/html": [
       "<div>\n",
       "<style scoped>\n",
       "    .dataframe tbody tr th:only-of-type {\n",
       "        vertical-align: middle;\n",
       "    }\n",
       "\n",
       "    .dataframe tbody tr th {\n",
       "        vertical-align: top;\n",
       "    }\n",
       "\n",
       "    .dataframe thead th {\n",
       "        text-align: right;\n",
       "    }\n",
       "</style>\n",
       "<table border=\"1\" class=\"dataframe\">\n",
       "  <thead>\n",
       "    <tr style=\"text-align: right;\">\n",
       "      <th></th>\n",
       "      <th>cluster_labels</th>\n",
       "      <th>Gender</th>\n",
       "    </tr>\n",
       "  </thead>\n",
       "  <tbody>\n",
       "    <tr>\n",
       "      <th>0</th>\n",
       "      <td>0</td>\n",
       "      <td>0.521605</td>\n",
       "    </tr>\n",
       "    <tr>\n",
       "      <th>1</th>\n",
       "      <td>1</td>\n",
       "      <td>0.398276</td>\n",
       "    </tr>\n",
       "    <tr>\n",
       "      <th>2</th>\n",
       "      <td>2</td>\n",
       "      <td>0.580913</td>\n",
       "    </tr>\n",
       "    <tr>\n",
       "      <th>3</th>\n",
       "      <td>3</td>\n",
       "      <td>0.405844</td>\n",
       "    </tr>\n",
       "  </tbody>\n",
       "</table>\n",
       "</div>"
      ],
      "text/plain": [
       "   cluster_labels    Gender\n",
       "0               0  0.521605\n",
       "1               1  0.398276\n",
       "2               2  0.580913\n",
       "3               3  0.405844"
      ]
     },
     "execution_count": 146,
     "metadata": {},
     "output_type": "execute_result"
    }
   ],
   "source": [
    "mcdonalds_df['Gender'] = LabelEncoder().fit_transform(mcdonalds_df['Gender'])\n",
    "gender = mcdonalds_df.groupby('cluster_labels')['Gender'].mean()\n",
    "gender = gender.to_frame().reset_index()\n",
    "gender\n"
   ]
  },
  {
   "cell_type": "code",
   "execution_count": 147,
   "metadata": {},
   "outputs": [
    {
     "data": {
      "text/html": [
       "<div>\n",
       "<style scoped>\n",
       "    .dataframe tbody tr th:only-of-type {\n",
       "        vertical-align: middle;\n",
       "    }\n",
       "\n",
       "    .dataframe tbody tr th {\n",
       "        vertical-align: top;\n",
       "    }\n",
       "\n",
       "    .dataframe thead th {\n",
       "        text-align: right;\n",
       "    }\n",
       "</style>\n",
       "<table border=\"1\" class=\"dataframe\">\n",
       "  <thead>\n",
       "    <tr style=\"text-align: right;\">\n",
       "      <th></th>\n",
       "      <th>cluster_labels</th>\n",
       "      <th>Gender</th>\n",
       "      <th>Like</th>\n",
       "      <th>VisitFrequency</th>\n",
       "    </tr>\n",
       "  </thead>\n",
       "  <tbody>\n",
       "    <tr>\n",
       "      <th>0</th>\n",
       "      <td>0</td>\n",
       "      <td>0.521605</td>\n",
       "      <td>3.808642</td>\n",
       "      <td>2.540123</td>\n",
       "    </tr>\n",
       "    <tr>\n",
       "      <th>1</th>\n",
       "      <td>1</td>\n",
       "      <td>0.398276</td>\n",
       "      <td>3.794828</td>\n",
       "      <td>2.584483</td>\n",
       "    </tr>\n",
       "    <tr>\n",
       "      <th>2</th>\n",
       "      <td>2</td>\n",
       "      <td>0.580913</td>\n",
       "      <td>6.763485</td>\n",
       "      <td>2.668050</td>\n",
       "    </tr>\n",
       "    <tr>\n",
       "      <th>3</th>\n",
       "      <td>3</td>\n",
       "      <td>0.405844</td>\n",
       "      <td>5.428571</td>\n",
       "      <td>2.818182</td>\n",
       "    </tr>\n",
       "  </tbody>\n",
       "</table>\n",
       "</div>"
      ],
      "text/plain": [
       "   cluster_labels    Gender      Like  VisitFrequency\n",
       "0               0  0.521605  3.808642        2.540123\n",
       "1               1  0.398276  3.794828        2.584483\n",
       "2               2  0.580913  6.763485        2.668050\n",
       "3               3  0.405844  5.428571        2.818182"
      ]
     },
     "execution_count": 147,
     "metadata": {},
     "output_type": "execute_result"
    }
   ],
   "source": [
    "segment = gender.merge(like, on='cluster_labels', how='left').merge(visit, on='cluster_labels', how='left')\n",
    "segment"
   ]
  },
  {
   "cell_type": "code",
   "execution_count": 148,
   "metadata": {},
   "outputs": [
    {
     "data": {
      "image/png": "[encoded data removed]",
      "text/plain": [
       "<Figure size 1080x432 with 1 Axes>"
      ]
     },
     "metadata": {},
     "output_type": "display_data"
    }
   ],
   "source": [
    "#Target segments\n",
    "\n",
    "plt.figure(figsize = (15,6))\n",
    "sns.scatterplot(x = \"VisitFrequency\", y = \"Like\",data=segment, s=200, color=\"b\")\n",
    "plt.title(\"simple segment evaluation plot for the fast food data set\") \n",
    "plt.xlabel(\"Visit\") \n",
    "plt.ylabel(\"Like\") \n",
    "plt.show()"
   ]
  }
 ],
 "metadata": {
  "kernelspec": {
   "display_name": "nepal-ai",
   "language": "python",
   "name": "python3"
  },
  "language_info": {
   "codemirror_mode": {
    "name": "ipython",
    "version": 3
   },
   "file_extension": ".py",
   "mimetype": "text/x-python",
   "name": "python",
   "nbconvert_exporter": "python",
   "pygments_lexer": "ipython3",
   "version": "3.9.11"
  },
  "orig_nbformat": 4,
  "vscode": {
   "interpreter": {
    "hash": "268420212d03c4c032a8f5c6bb5703ca59793cf14fd48d1a6d32cc794f78da2b"
   }
  }
 },
 "nbformat": 4,
 "nbformat_minor": 2
}
